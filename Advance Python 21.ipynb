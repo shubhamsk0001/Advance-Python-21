{
 "cells": [
  {
   "cell_type": "code",
   "execution_count": null,
   "id": "1c539345",
   "metadata": {},
   "outputs": [],
   "source": [
    "Q1. What is a probability distribution, exactly? If the values are meant to be random, how can you predict them at all ?"
   ]
  },
  {
   "cell_type": "code",
   "execution_count": null,
   "id": "eaab16aa",
   "metadata": {},
   "outputs": [],
   "source": [
    " A probability distribution describes how a random variable is distributed.\n",
    "\n",
    "It tells us which values a random variable is most likely to take on and which values are less likely. Based on the \n",
    "previous data and the occurences of the random event, we can predict the outcome in terms of probabilities."
   ]
  },
  {
   "cell_type": "code",
   "execution_count": null,
   "id": "93efbc69",
   "metadata": {},
   "outputs": [],
   "source": [
    "Q2. Is there a distinction between true random numbers and pseudo-random numbers, if there is one? Why are the latter\n",
    "considered “good enough”?"
   ]
  },
  {
   "cell_type": "code",
   "execution_count": null,
   "id": "0d8a268b",
   "metadata": {},
   "outputs": [],
   "source": [
    "True Random Numbers are true physical values while pseudo-random numbers are generated internally by a program . \n",
    "Latter is considered good enough as they have sort of uniform distribution."
   ]
  },
  {
   "cell_type": "code",
   "execution_count": null,
   "id": "20165412",
   "metadata": {},
   "outputs": [],
   "source": [
    "Q3. What are the two main factors that influence the behaviour of a \"normal\" probability distribution ?"
   ]
  },
  {
   "cell_type": "code",
   "execution_count": null,
   "id": "1fecd90b",
   "metadata": {},
   "outputs": [],
   "source": [
    "Normal Probability Distribution are influenced by two factors mean and the variance."
   ]
  },
  {
   "cell_type": "code",
   "execution_count": null,
   "id": "0272526c",
   "metadata": {},
   "outputs": [],
   "source": [
    "Q4. Provide a real-life example of a normal distribution ?"
   ]
  },
  {
   "cell_type": "code",
   "execution_count": null,
   "id": "b44f723b",
   "metadata": {},
   "outputs": [],
   "source": [
    "A Real-life example of a normal distribution are heights or blood pressure measurements"
   ]
  },
  {
   "cell_type": "code",
   "execution_count": null,
   "id": "17ed412a",
   "metadata": {},
   "outputs": [],
   "source": [
    "Q5. In the short term, how can you expect a probability distribution to behave? What do you think will happen as the \n",
    "number of trials grows ?"
   ]
  },
  {
   "cell_type": "code",
   "execution_count": null,
   "id": "923e6f48",
   "metadata": {},
   "outputs": [],
   "source": [
    "Variance will decrease with number of trials"
   ]
  },
  {
   "cell_type": "code",
   "execution_count": null,
   "id": "0be118cd",
   "metadata": {},
   "outputs": [],
   "source": [
    "Q6. What kind of object can be shuffled by using random.shuffle ?"
   ]
  },
  {
   "cell_type": "code",
   "execution_count": null,
   "id": "b0a87896",
   "metadata": {},
   "outputs": [],
   "source": [
    "lists (list), strings (str) and tuples (tuple) objects can be shuffled by using random.shuffle."
   ]
  },
  {
   "cell_type": "code",
   "execution_count": null,
   "id": "a00cf68d",
   "metadata": {},
   "outputs": [],
   "source": [
    "Q7. Describe the math package's general categories of functions ?"
   ]
  },
  {
   "cell_type": "code",
   "execution_count": null,
   "id": "cb7e69be",
   "metadata": {},
   "outputs": [],
   "source": [
    "The Math package's general categories of functions are:\n",
    "\n",
    "Trigonometric functions\n",
    "Quadratic functions\n",
    "Exponential functions\n",
    "Hyperbolic functions\n",
    "Periodic functions\n",
    "Arithmetic functions\n",
    "Logarithimic functions\n",
    "Conversions to Integer"
   ]
  },
  {
   "cell_type": "code",
   "execution_count": null,
   "id": "5c85f0d9",
   "metadata": {},
   "outputs": [],
   "source": [
    "Q8. What is the relationship between exponentiation and logarithms ?"
   ]
  },
  {
   "cell_type": "code",
   "execution_count": null,
   "id": "03d4e11d",
   "metadata": {},
   "outputs": [],
   "source": [
    "Exponentiation and logarithms are inverse of each other."
   ]
  },
  {
   "cell_type": "code",
   "execution_count": null,
   "id": "ada5ffb3",
   "metadata": {},
   "outputs": [],
   "source": [
    "Q9. What are the three logarithmic functions that Python supports ?"
   ]
  },
  {
   "cell_type": "code",
   "execution_count": null,
   "id": "a075bd7b",
   "metadata": {},
   "outputs": [],
   "source": [
    " The Three Logarithmic Functions that Python supports are:\n",
    "\n",
    "log2(x) - logarithmic value of x to base 2\n",
    "log10(x) - logarithmic value of x to base 10\n",
    "log1p(a) - This function is used to compute logarithm(1+a) "
   ]
  }
 ],
 "metadata": {
  "kernelspec": {
   "display_name": "Python 3 (ipykernel)",
   "language": "python",
   "name": "python3"
  },
  "language_info": {
   "codemirror_mode": {
    "name": "ipython",
    "version": 3
   },
   "file_extension": ".py",
   "mimetype": "text/x-python",
   "name": "python",
   "nbconvert_exporter": "python",
   "pygments_lexer": "ipython3",
   "version": "3.9.12"
  }
 },
 "nbformat": 4,
 "nbformat_minor": 5
}
